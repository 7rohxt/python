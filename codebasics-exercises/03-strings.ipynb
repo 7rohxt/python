{
 "cells": [
  {
   "cell_type": "markdown",
   "metadata": {},
   "source": [
    "## Exercise: String in Python"
   ]
  },
  {
   "cell_type": "markdown",
   "metadata": {},
   "source": [
    "**Q1. Create 3 variables to store street, city and country, now create address variable to store entire address. Use two ways of creating this variable, one using + operator and the other using f-string. Now Print the address in such a way that the street, city and country prints in a separate line**"
   ]
  },
  {
   "cell_type": "code",
   "execution_count": 9,
   "metadata": {},
   "outputs": [
    {
     "name": "stdout",
     "output_type": "stream",
     "text": [
      "Dark Street\n",
      "Vellore\n",
      "Indian\n",
      "Dark Street \n",
      "Vellore \n",
      "Indian\n"
     ]
    }
   ],
   "source": [
    "street = \"Dark Street\"\n",
    "city = \"Vellore\"\n",
    "country = \"Indian\"\n",
    "\n",
    "address = street + '\\n' + city +'\\n'+ country\n",
    "fstr_address = f\"{street} \\n{city} \\n{country}\"\n",
    "print (address)\n",
    "print (fstr_address)"
   ]
  },
  {
   "cell_type": "markdown",
   "metadata": {},
   "source": [
    "**Q2. Create a variable to store the string \"Earth revolves around the sun\"**\n",
    "- *Print \"revolves\" using slice operator*\n",
    "- *Print \"sun\" using negative index*"
   ]
  },
  {
   "cell_type": "code",
   "execution_count": 33,
   "metadata": {},
   "outputs": [
    {
     "name": "stdout",
     "output_type": "stream",
     "text": [
      "Printing \"revolves\" using slice operator: revolves\n",
      "Printing \"sun\" using negative index: sun\n"
     ]
    }
   ],
   "source": [
    "var = \"Earth revolves around the sun\"\n",
    "\n",
    "print(f'Printing \"revolves\" using slice operator: {var[6:14]}')\n",
    "print(f'Printing \"sun\" using negative index: {var[-3:]}')"
   ]
  },
  {
   "cell_type": "markdown",
   "metadata": {},
   "source": [
    "**Q3.Create two variables to store how many fruits and vegetables you eat in a day. Now Print \"I eat x veggies and y fruits daily\" where x and y presents vegetables and fruits that you eat everyday. Use python f string for this.**"
   ]
  },
  {
   "cell_type": "code",
   "execution_count": 34,
   "metadata": {},
   "outputs": [
    {
     "name": "stdout",
     "output_type": "stream",
     "text": [
      "I eat 2 veggies and 5 fruits daily\n"
     ]
    }
   ],
   "source": [
    "x = 2 #number of fruits i eat\n",
    "y = 5 #number of veggies i eat \n",
    "print(f\"I eat {x} veggies and {y} fruits daily\")"
   ]
  },
  {
   "cell_type": "markdown",
   "metadata": {},
   "source": [
    "**Q4. I have a string variable called s='maine 200 banana khaye'. This of course is a wrong statement, the correct statement is 'maine 10 samosa khaye'. Replace incorrect words in original strong with new ones and print the new string. Also try to do this in one line.**"
   ]
  },
  {
   "cell_type": "code",
   "execution_count": 38,
   "metadata": {},
   "outputs": [
    {
     "name": "stdout",
     "output_type": "stream",
     "text": [
      "maine 10 samosa khaye\n"
     ]
    }
   ],
   "source": [
    "s='maine 200 banana khaye'\n",
    "print(s.replace('200','10').replace('banana','samosa'))"
   ]
  }
 ],
 "metadata": {
  "kernelspec": {
   "display_name": "Python 3",
   "language": "python",
   "name": "python3"
  },
  "language_info": {
   "codemirror_mode": {
    "name": "ipython",
    "version": 3
   },
   "file_extension": ".py",
   "mimetype": "text/x-python",
   "name": "python",
   "nbconvert_exporter": "python",
   "pygments_lexer": "ipython3",
   "version": "3.10.0"
  }
 },
 "nbformat": 4,
 "nbformat_minor": 2
}
