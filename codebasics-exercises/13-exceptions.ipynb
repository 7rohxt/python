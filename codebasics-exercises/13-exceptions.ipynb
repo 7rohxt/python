{
 "cells": [
  {
   "cell_type": "markdown",
   "metadata": {},
   "source": [
    "## Exercise: Raise Exception And Finally\n",
    "\n",
    "1. Create a custom exception AdultException.\n",
    "\n",
    "2. Create a class Person with attributes name and age in it.\n",
    "\n",
    "3. Create a function get_minor_age() in the class. It throws an exception if the person is adult otherwise returns age.\n",
    "\n",
    "4. Create a function display_person() which prints the age and name of a person."
   ]
  },
  {
   "cell_type": "code",
   "execution_count": 25,
   "metadata": {},
   "outputs": [
    {
     "name": "stdout",
     "output_type": "stream",
     "text": [
      "Person 1\n",
      "Exception: The person is an adult\n",
      "Name: Rohit\n",
      "\n",
      "Person 2\n",
      "Age: 11\n",
      "Name: Karthick\n",
      "\n"
     ]
    }
   ],
   "source": [
    "class AdultException (Exception):\n",
    "    pass\n",
    "\n",
    "\n",
    "class Person:\n",
    "    def __init__ (self, name, age):\n",
    "        self.name = name\n",
    "        self.age = age\n",
    "\n",
    "    def get_minor_age(self):\n",
    "        if int(self.age) > 18:\n",
    "            raise AdultException(\"The person is an adult\")\n",
    "        else:\n",
    "            return self.age\n",
    "            \n",
    "    def display_person(self):\n",
    "        try:\n",
    "            print(f\"Age: {self.get_minor_age()}\")\n",
    "        except AdultException as e:\n",
    "            print(f\"Exception: {e}\")\n",
    "        finally:\n",
    "            print(f\"Name: {self.name}\\n\")\n",
    "\n",
    "person1 = Person('Rohit',23)\n",
    "print(\"Person 1\")\n",
    "person1.display_person()\n",
    "\n",
    "person2 = Person('Karthick',11)\n",
    "print(\"Person 2\")\n",
    "person2.display_person()\n"
   ]
  }
 ],
 "metadata": {
  "kernelspec": {
   "display_name": "Python 3",
   "language": "python",
   "name": "python3"
  },
  "language_info": {
   "codemirror_mode": {
    "name": "ipython",
    "version": 3
   },
   "file_extension": ".py",
   "mimetype": "text/x-python",
   "name": "python",
   "nbconvert_exporter": "python",
   "pygments_lexer": "ipython3",
   "version": "3.8.0"
  }
 },
 "nbformat": 4,
 "nbformat_minor": 2
}
