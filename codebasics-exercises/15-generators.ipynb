{
 "cells": [
  {
   "cell_type": "markdown",
   "metadata": {},
   "source": [
    "## Exercise: Generators\n",
    "\n",
    "1. Print Square Sequence using yield\n",
    "\n",
    "\n",
    "```\n",
    "    Create Generator method such that every time it will returns a next square number\n",
    "\n",
    "for exmaple : 1 4 9 16 ..\n",
    "\n",
    "     \n",
    "```\n"
   ]
  },
  {
   "cell_type": "code",
   "execution_count": null,
   "metadata": {},
   "outputs": [
    {
     "name": "stdout",
     "output_type": "stream",
     "text": [
      "1\n",
      "4\n",
      "9\n",
      "16\n",
      "25\n"
     ]
    }
   ],
   "source": [
    "def NextSquareNumber():\n",
    "    i = 1\n",
    "    while True:\n",
    "        yield i * i\n",
    "        i += 1\n",
    "    \n",
    "for n in NextSquareNumber():\n",
    "    if n > 25:\n",
    "        break\n",
    "    print(n)"
   ]
  }
 ],
 "metadata": {
  "kernelspec": {
   "display_name": "Python 3",
   "language": "python",
   "name": "python3"
  },
  "language_info": {
   "codemirror_mode": {
    "name": "ipython",
    "version": 3
   },
   "file_extension": ".py",
   "mimetype": "text/x-python",
   "name": "python",
   "nbconvert_exporter": "python",
   "pygments_lexer": "ipython3",
   "version": "3.8.0"
  }
 },
 "nbformat": 4,
 "nbformat_minor": 2
}
