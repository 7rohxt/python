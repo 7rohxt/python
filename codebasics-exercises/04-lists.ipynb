{
 "cells": [
  {
   "cell_type": "markdown",
   "metadata": {},
   "source": [
    "## Exercise: Python Lists"
   ]
  },
  {
   "cell_type": "markdown",
   "metadata": {},
   "source": [
    "**Q1. Let us say your expenses for every month are listed below:** \n",
    "\n",
    "- **January** - 2200  \n",
    "- **February** - 2350  \n",
    "- **March** - 2600  \n",
    "- **April** - 2130  \n",
    "- **May** - 2190  \n",
    "\n",
    "**Create a list to store these monthly expenses and using that, find out:**  \n",
    "\n",
    "1. In **February**, how many dollars did you spend extra compared to **January**?  \n",
    "2. Find out your **total expense in the first quarter** (first three months) of the year.  \n",
    "3. **June** month just finished, and your expense is **1980 dollars**. Add this item to the monthly expense list.  \n",
    "4. You **returned an item** that you bought in **April** and got a **refund of 200 dollars**. Make a correction to your monthly expense list based on this.  \n"
   ]
  },
  {
   "cell_type": "code",
   "execution_count": 23,
   "metadata": {},
   "outputs": [
    {
     "name": "stdout",
     "output_type": "stream",
     "text": [
      "1. In February i spent 150 dollars more than January\n",
      "2. The total expense in the first quarter is 7150\n",
      "3. Expense list after including June: [2200, 2350, 2600, 2130, 2190, 1980]\n",
      "4. The list after april refund: [2200, 2350, 2600, 2330, 2190, 1980]\n"
     ]
    }
   ],
   "source": [
    "expenses = [2200, 2350, 2600, 2130, 2190]\n",
    "\n",
    "print(f\"1. In February i spent {expenses[1] - expenses[0]} dollars more than January\") #1\n",
    "\n",
    "sum = 0 \n",
    "for i in expenses[:3]:\n",
    "    sum += int(i)\n",
    "print(f\"2. The total expense in the first quarter is {sum}\") #2\n",
    "\n",
    "june = 1980\n",
    "expenses.append(june)\n",
    "print(f\"3. Expense list after including June: {expenses}\") #3\n",
    "\n",
    "april_refund = 200\n",
    "expenses[3] = expenses[3] + 200\n",
    "print(f\"4. The list after april refund: {expenses}\") #4"
   ]
  },
  {
   "cell_type": "markdown",
   "metadata": {},
   "source": [
    "**Q2.You have a list of your favourite marvel super heros.**\n",
    "\n",
    "heros=['spider man','thor','hulk','iron man','captain america']\n",
    "\n",
    "**Using this find out,**\n",
    "\n",
    "1. Length of the list\n",
    "2. Add 'black panther' at the end of this list\n",
    "3. You realize that you need to add 'black panther' after 'hulk',\n",
    "   so remove it from the list first and then add it after 'hulk'\n",
    "4. Now you don't like thor and hulk because they get angry easily :)\n",
    "   So you want to remove thor and hulk from list and replace them with doctor strange (because he is cool).\n",
    "   Do that with one line of code.\n",
    "5. Sort the heros list in alphabetical order (Hint. Use dir() functions to list down all functions available in list)"
   ]
  },
  {
   "cell_type": "code",
   "execution_count": 44,
   "metadata": {},
   "outputs": [
    {
     "name": "stdout",
     "output_type": "stream",
     "text": [
      "1. The length of the list is 5\n",
      "2. List after adding black panther: ['spider man', 'thor', 'hulk', 'iron man', 'captain america', 'black panther']\n",
      "3. Black panther after hulk: ['spider man', 'thor', 'hulk', 'black pather', 'iron man', 'captain america']\n",
      "4. Sorted list: ['black pather', 'captain america', 'hulk', 'iron man', 'spider man', 'thor']\n"
     ]
    }
   ],
   "source": [
    "heros=['spider man','thor','hulk','iron man','captain america']\n",
    "\n",
    "print(f\"1. The length of the list is {len(heros)}\") #1\n",
    "\n",
    "heros.append('black panther')\n",
    "print(f\"2. List after adding black panther: {heros}\") #2\n",
    "\n",
    "heros.remove('black panther')\n",
    "heros.insert(3,'black pather')\n",
    "print(f\"3. Black panther after hulk: {heros}\") #3\n",
    "\n",
    "heros.sort()\n",
    "print(f\"4. Sorted list: {heros}\") #4"
   ]
  }
 ],
 "metadata": {
  "kernelspec": {
   "display_name": "Python 3",
   "language": "python",
   "name": "python3"
  },
  "language_info": {
   "codemirror_mode": {
    "name": "ipython",
    "version": 3
   },
   "file_extension": ".py",
   "mimetype": "text/x-python",
   "name": "python",
   "nbconvert_exporter": "python",
   "pygments_lexer": "ipython3",
   "version": "3.10.0"
  }
 },
 "nbformat": 4,
 "nbformat_minor": 2
}
