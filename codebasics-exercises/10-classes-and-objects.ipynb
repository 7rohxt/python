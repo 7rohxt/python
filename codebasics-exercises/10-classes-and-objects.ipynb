{
 "cells": [
  {
   "cell_type": "markdown",
   "metadata": {},
   "source": [
    "## Exercise: Class and Objects\n",
    "\n",
    "1. Create a sample class named Employee with two attributes id and name \n",
    "\n",
    "```\n",
    "employee :\n",
    "    id\n",
    "    name\n",
    "```\n",
    "object initializes id and name dynamically for every Employee object created.\n",
    " \n",
    "```\n",
    "emp = Employee(1, \"coder\")\n",
    "```\n"
   ]
  },
  {
   "cell_type": "code",
   "execution_count": 39,
   "metadata": {},
   "outputs": [
    {
     "name": "stdout",
     "output_type": "stream",
     "text": [
      "{'id': 1, 'name': 'coder'}\n"
     ]
    }
   ],
   "source": [
    "class Employee:\n",
    "\n",
    "    def __init__ (self,i,n):\n",
    "        self.id = i \n",
    "        self.name = n\n",
    "    \n",
    "emp = Employee(1, \"coder\")\n",
    "\n",
    "print(vars(emp)) "
   ]
  },
  {
   "cell_type": "markdown",
   "metadata": {},
   "source": [
    "2. Use del property to first delete id attribute and then the entire object"
   ]
  },
  {
   "cell_type": "code",
   "execution_count": 40,
   "metadata": {},
   "outputs": [
    {
     "name": "stdout",
     "output_type": "stream",
     "text": [
      "{'name': 'coder'}\n"
     ]
    }
   ],
   "source": [
    "del emp.id\n",
    "print(vars(emp)) \n",
    "\n",
    "del emp"
   ]
  }
 ],
 "metadata": {
  "kernelspec": {
   "display_name": "Python 3",
   "language": "python",
   "name": "python3"
  },
  "language_info": {
   "codemirror_mode": {
    "name": "ipython",
    "version": 3
   },
   "file_extension": ".py",
   "mimetype": "text/x-python",
   "name": "python",
   "nbconvert_exporter": "python",
   "pygments_lexer": "ipython3",
   "version": "3.10.0"
  }
 },
 "nbformat": 4,
 "nbformat_minor": 2
}
