{
 "cells": [
  {
   "cell_type": "markdown",
   "metadata": {},
   "source": [
    "# Exercise: Functions in python\n",
    "1. Write a function called calculate_area that takes base and height as an input and returns and area of a triangle. Equation of an area of a triangle is,\n",
    "```\n",
    "area = (1/2)*base*height\n",
    "```\n"
   ]
  },
  {
   "cell_type": "code",
   "execution_count": 9,
   "metadata": {},
   "outputs": [
    {
     "name": "stdout",
     "output_type": "stream",
     "text": [
      "Area: 40.0\n"
     ]
    }
   ],
   "source": [
    "def calculate_area(base,height):\n",
    "    area = (1/2) * base * height\n",
    "    return area\n",
    "\n",
    "b = 8\n",
    "h = 10\n",
    "a = calculate_area(b,h)\n",
    "print(f\"Area: {a}\")"
   ]
  },
  {
   "cell_type": "markdown",
   "metadata": {},
   "source": [
    "2. Modify above function to take third parameter shape type. It can be either \"triangle\" or \"rectangle\". Based on shape type it will calculate area. Equation of rectangle's area is,\n",
    "```\n",
    "rectangle area=length*width\n",
    "```\n",
    "If no shape is supplied then it should take triangle as a default shape\n"
   ]
  },
  {
   "cell_type": "code",
   "execution_count": 13,
   "metadata": {},
   "outputs": [
    {
     "name": "stdout",
     "output_type": "stream",
     "text": [
      "Area of the rectangle: 80\n"
     ]
    }
   ],
   "source": [
    "def calculate_area(base,height,shape='triangle'):\n",
    "    \n",
    "    if shape == 'triangle':\n",
    "       area = (1/2) * base * height\n",
    "       print(f\"Area of the Triangle: {a}\")\n",
    "    \n",
    "    elif shape == 'rectangle':\n",
    "       area =  base * height\n",
    "       print(f\"Area of the rectangle: {a}\")\n",
    "    \n",
    "    return None\n",
    "\n",
    "b = 8\n",
    "h = 10\n",
    "a = calculate_area(b,h,'rectangle')"
   ]
  },
  {
   "cell_type": "markdown",
   "metadata": {},
   "source": [
    "3. Write a function called print_pattern that takes integer number as an argument and prints following pattern if input number is 3,\n",
    "```\n",
    "*\n",
    "**\n",
    "***\n",
    "```\n",
    "if input is 4 then it should print\n",
    "```\n",
    "*\n",
    "**\n",
    "***\n",
    "****\n",
    "```\n",
    "Basically number of lines it prints is equal to that number. (Hint: you need to use two for loops)\n"
   ]
  },
  {
   "cell_type": "code",
   "execution_count": 22,
   "metadata": {},
   "outputs": [
    {
     "name": "stdout",
     "output_type": "stream",
     "text": [
      "\n",
      "*\n",
      "**\n",
      "***\n",
      "****\n"
     ]
    }
   ],
   "source": [
    "def print_pattern(integer):\n",
    "    for i in range(integer+1):\n",
    "        print(i * \"*\")\n",
    "    return None\n",
    "\n",
    "n = int(input(\"Enter an Integer: \"))\n",
    "print_pattern(n)"
   ]
  }
 ],
 "metadata": {
  "kernelspec": {
   "display_name": "Python 3",
   "language": "python",
   "name": "python3"
  },
  "language_info": {
   "codemirror_mode": {
    "name": "ipython",
    "version": 3
   },
   "file_extension": ".py",
   "mimetype": "text/x-python",
   "name": "python",
   "nbconvert_exporter": "python",
   "pygments_lexer": "ipython3",
   "version": "3.10.0"
  }
 },
 "nbformat": 4,
 "nbformat_minor": 2
}
