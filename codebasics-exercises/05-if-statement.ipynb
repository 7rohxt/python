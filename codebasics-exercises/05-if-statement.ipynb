{
 "cells": [
  {
   "cell_type": "markdown",
   "metadata": {},
   "source": [
    "## Exercise: Python If Condition"
   ]
  },
  {
   "cell_type": "markdown",
   "metadata": {},
   "source": [
    "\n",
    "---\n",
    "\n",
    "**Q1. Using following list of cities per country,**\n",
    "\n",
    "- india = [\"mumbai\", \"banglore\", \"chennai\", \"delhi\"]\n",
    "- pakistan = [\"lahore\",\"karachi\",\"islamabad\"]\n",
    "- bangladesh = [\"dhaka\", \"khulna\", \"rangpur\"]\n",
    "\n",
    " **1. Write a program that asks user to enter a city name and it should tell which country the city belongs to**\n",
    "\n",
    " **2. Write a program that asks user to enter two cities and it tells you if they both are in same country or not. For example if I enter mumbai and chennai, it will print \"Both cities are in India\" but if I enter mumbai and dhaka it should print \"They don't belong to same country\"**"
   ]
  },
  {
   "cell_type": "code",
   "execution_count": 25,
   "metadata": {},
   "outputs": [
    {
     "name": "stdout",
     "output_type": "stream",
     "text": [
      "1. City Name: chennai\n",
      "   Country: India\n",
      "2. City 1: islamabad , City 2: dhaka\n",
      "   Both the Cities are in Different Countries\n"
     ]
    }
   ],
   "source": [
    "india = [\"mumbai\", \"banglore\", \"chennai\", \"delhi\"]\n",
    "pakistan = [\"lahore\",\"karachi\",\"islamabad\"]\n",
    "bangladesh = [\"dhaka\", \"khulna\", \"rangpur\"]\n",
    "\n",
    "city = input(\"Enter a city name\")\n",
    "print(f\"1. City Name: {city}\")\n",
    "\n",
    "if city in india:\n",
    "    print(\"   Country: India\")\n",
    "elif city in pakistan:\n",
    "    print(\"   Country: Pakistan\")\n",
    "elif city in bangladesh:\n",
    "    print(\"   Country: Bangladesh\")\n",
    "else:\n",
    "    print(\"Choose from the cities listed above\")\n",
    "\n",
    "city1, city2 = input(\"Enter Any Two Cities\"), input(\"Enter Any Two Cities\")\n",
    "print(f\"2. City 1: {city1} , City 2: {city2}\")\n",
    "\n",
    "if city1 in india and city2 in india:\n",
    "    print(\"   Both the Cities are in India\")\n",
    "    \n",
    "elif city1 in pakistan and city2 in pakistan:\n",
    "    print(\"   Both the Cities are in Pakistan\")\n",
    "\n",
    "elif city1 in bangladesh and city2 in bangladesh:\n",
    "    print(\"   Both the Cities are in Bangladesh\")\n",
    "\n",
    "else:\n",
    "    print(\"   Both the Cities are in Different Countries\")\n"
   ]
  },
  {
   "cell_type": "markdown",
   "metadata": {},
   "source": [
    "---\n",
    "**Q2. Write a python program that can tell you if your sugar is normal or not. Normal fasting level sugar range is 80 to 100.**\n",
    "\n",
    "- *Ask user to enter his fasting sugar level*\n",
    "- *If it is below 80 to 100 range then print that sugar is low*\n",
    "- *If it is above 100 then print that it is high otherwise print that it is normal*"
   ]
  },
  {
   "cell_type": "code",
   "execution_count": null,
   "metadata": {},
   "outputs": [
    {
     "name": "stdout",
     "output_type": "stream",
     "text": [
      "Sugar level: 84\n",
      "Status: Normal\n"
     ]
    }
   ],
   "source": [
    "level = int(input(\"Enter your fasting sugar level: \"))\n",
    "print (f\"Sugar level: {level}\")\n",
    "if level < 80:\n",
    "    print(\"Status: Low Sugar\")\n",
    "\n",
    "elif level > 100:\n",
    "    print(\"Status: High Sugar\")\n",
    "\n",
    "else: \n",
    "    print(\"Status: Normal\")"
   ]
  }
 ],
 "metadata": {
  "kernelspec": {
   "display_name": "Python 3",
   "language": "python",
   "name": "python3"
  },
  "language_info": {
   "codemirror_mode": {
    "name": "ipython",
    "version": 3
   },
   "file_extension": ".py",
   "mimetype": "text/x-python",
   "name": "python",
   "nbconvert_exporter": "python",
   "pygments_lexer": "ipython3",
   "version": "3.10.0"
  }
 },
 "nbformat": 4,
 "nbformat_minor": 2
}
