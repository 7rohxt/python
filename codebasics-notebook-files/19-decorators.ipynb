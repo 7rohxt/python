{
 "cells": [
  {
   "cell_type": "markdown",
   "metadata": {},
   "source": [
    "## Exercise: Decorators\n",
    "\n",
    "1. Create a decorator function to check that the argument passed to the function factorial is a non-negative integer:\n"
   ]
  },
  {
   "cell_type": "markdown",
   "metadata": {},
   "source": [
    "2. Create a factorial function which finds the factorial of a number.\n"
   ]
  },
  {
   "cell_type": "markdown",
   "metadata": {},
   "source": [
    "3. Use the decorator to decorate the factorial function to only allow factorial of non-negative integers.\n",
    "```\n",
    "example: \n",
    "\n",
    "    factorial(1.354) : raise Exception or print error message\n",
    "    factorial(-1) : raise Exception or print error message\n",
    "    factorial(5) : 60\n",
    "\n",
    "```"
   ]
  },
  {
   "cell_type": "code",
   "execution_count": 23,
   "metadata": {},
   "outputs": [
    {
     "name": "stdout",
     "output_type": "stream",
     "text": [
      "Number: 4  Factorial: 24\n",
      "Number: -3  Factorial: The Number is a not a Positive Integer. Therefore, factorial cannot be performed.\n",
      "Number: 2.3  Factorial: The Number is a not a Positive Integer. Therefore, factorial cannot be performed.\n"
     ]
    }
   ],
   "source": [
    "def non_negative(func):\n",
    "    def wrapper(*args, **kwargs):\n",
    "      number = args[0]\n",
    "      if number < 0 or  number % 1 != 0:\n",
    "        return \"The Number is a not a Positive Integer. Therefore, factorial cannot be performed.\"\n",
    "      return func(*args, **kwargs)\n",
    "    return wrapper\n",
    "\n",
    "@non_negative\n",
    "def factorial(number):\n",
    "        fact = 1\n",
    "        for i in range(1,int(number)+1):\n",
    "            fact *= i\n",
    "        return fact \n",
    "\n",
    "print(f\"Number: 4  Factorial: {factorial(4)}\")\n",
    "print(f\"Number: -3  Factorial: {factorial(-3)}\")\n",
    "print(f\"Number: 2.3  Factorial: {factorial(2.3)}\")"
   ]
  }
 ],
 "metadata": {
  "kernelspec": {
   "display_name": "Python 3",
   "language": "python",
   "name": "python3"
  },
  "language_info": {
   "codemirror_mode": {
    "name": "ipython",
    "version": 3
   },
   "file_extension": ".py",
   "mimetype": "text/x-python",
   "name": "python",
   "nbconvert_exporter": "python",
   "pygments_lexer": "ipython3",
   "version": "3.8.0"
  }
 },
 "nbformat": 4,
 "nbformat_minor": 2
}
