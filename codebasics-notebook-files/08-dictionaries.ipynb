{
 "cells": [
  {
   "cell_type": "markdown",
   "metadata": {},
   "source": [
    "## Exercise: Python Dict and Tuples\n",
    "\n",
    "1. We have following information on countries and their population (population is in crores),\n",
    "\n",
    "    |Country|Population|\n",
    "    |-------|----------|\n",
    "    |China|143|\n",
    "    |India|136|\n",
    "    |USA|32|\n",
    "    |Pakistan|21|\n",
    "    1. Using above create a dictionary of countries and its population\n",
    "    2. Write a program that asks user for three type of inputs,\n",
    "        1. print: if user enter print then it should print all countries with their population in this format,\n",
    "            ```\n",
    "            china==>143\n",
    "            india==>136\n",
    "            usa==>32\n",
    "            pakistan==>21\n",
    "            ```\n",
    "        1. add: if user input add then it should further ask for a country name to add. If country already exist in our dataset then it should print that it exist and do nothing. If it doesn't then it asks for population and add that new country/population in our dictionary and print it\n",
    "        2. remove: when user inputs remove it should ask for a country to remove. If country exist in our dictionary then remove it and print new dictionary using format shown above in (a). Else print that country doesn't exist!\n",
    "        3. query: on this again ask user for which country he or she wants to query. When user inputs that country it will print population of that country."
   ]
  },
  {
   "cell_type": "code",
   "execution_count": 14,
   "metadata": {},
   "outputs": [
    {
     "name": "stdout",
     "output_type": "stream",
     "text": [
      "Enter any one of the supported inputs (print, add, remove, or query): remove\n",
      "Deleting India from the dataset\n",
      "China==>143\n",
      "USA==>32\n",
      "Pakistan==>21\n"
     ]
    }
   ],
   "source": [
    "my_dict = {'China': 143, 'India': 136, 'USA': 32, 'Pakistan': 21}\n",
    "\n",
    "ip = input(\"Enter any one of the supported inputs (print, add, remove, or query)\")\n",
    "print(f\"Enter any one of the supported inputs (print, add, remove, or query): {ip}\")\n",
    "\n",
    "if ip == 'print':\n",
    "    for i,j in my.dict.items():\n",
    "        print(f\"{i}==>{j}\")\n",
    "\n",
    "elif ip == 'add':\n",
    "    new = input(\"Enter the Country name: \")\n",
    "    if new in my_dict:\n",
    "        print(f\"{new} already exits\")\n",
    "    else:\n",
    "        new_population = input(\"Enter the Country's population\")\n",
    "        my_dict[new] = new_population\n",
    "        print(f\"Updated Dictionary: {my_dict}\")\n",
    "\n",
    "elif ip == 'remove':\n",
    "    remov = input(\"Enter the Country name: \")\n",
    "    if remov in my_dict:\n",
    "        print(f\"Deleting {remov} from the dataset\")\n",
    "        del my_dict[remov]\n",
    "        for i,j in my_dict.items():\n",
    "            print(f\"{i}==>{j}\")\n",
    "    else:\n",
    "        print(\"Country doesn't exist!\")\n",
    "\n",
    "elif ip == 'query':\n",
    "    qry = input(\"Enter the Country name: \")\n",
    "    print(f\"The population of the queried country is {my_dict[qry]} crores.\")"
   ]
  },
  {
   "cell_type": "markdown",
   "metadata": {},
   "source": [
    "2. You are given following list of stocks and their prices in last 3 days,\n",
    "\n",
    "    |Stock|Prices|\n",
    "    |-------|----------|\n",
    "    |info|[600,630,620]|\n",
    "    |ril|[1430,1490,1567]|\n",
    "    |mtl|[234,180,160]|\n",
    "\n",
    "    1. Write a program that asks user for operation. Value of operations could be,\n",
    "        1. print: When user enters print it should print following,\n",
    "            ```\n",
    "            info ==> [600, 630, 620] ==> avg:  616.67\n",
    "            ril ==> [1430, 1490, 1567] ==> avg:  1495.67\n",
    "            mtl ==> [234, 180, 160] ==> avg:  191.33\n",
    "            ```\n",
    "        2. add: When user enters 'add', it asks for stock ticker and price. If stock already exist in your list (like info, ril etc) then it will append the price to the list. Otherwise it will create new entry in your dictionary. For example entering 'tata' and 560 will add tata ==> [560] to the dictionary of stocks.\n"
   ]
  },
  {
   "cell_type": "code",
   "execution_count": 64,
   "metadata": {},
   "outputs": [
    {
     "name": "stdout",
     "output_type": "stream",
     "text": [
      "Enter any one of the supported inputs print or add: print\n",
      "info ==> [600, 630, 620] ==> avg: 616.67\n",
      "ril ==> [1430, 1490, 1567] ==> avg: 1495.67\n",
      "mtl ==> [234, 180, 160] ==> avg: 191.33\n"
     ]
    }
   ],
   "source": [
    "my_dict = {'info': [600,630,620], 'ril': [1430,1490,1567], 'mtl': [234,180,160]}\n",
    "\n",
    "ip = input(\"Enter any one of the supported inputs (print or add\")\n",
    "print(f\"Enter any one of the supported inputs print or add: {ip}\")\n",
    "\n",
    "if ip == 'print':\n",
    "    for i,j in my_dict.items():\n",
    "        sum = 0\n",
    "        for k in range(len(j)):\n",
    "            sum += j[k]\n",
    "        avg = sum/3 \n",
    "        print(f\"{i} ==> {j} ==> avg: {avg:.2f}\")\n",
    "\n",
    "elif ip == 'add':\n",
    "\n",
    "    stock_name, price = input(\"Enter the stock name \") , int(input(\"Enter the stock price\"))\n",
    "    if stock_name in dict:\n",
    "        my_dict[stock_name].append(price)\n",
    "        print (f\"Updated Dictionary: {my_dict}\")\n",
    "    else:\n",
    "        my_dict[stock_name] = [price] \n",
    "        print (f\"Updated Dictionary: {my_dict}\")"
   ]
  },
  {
   "cell_type": "markdown",
   "metadata": {},
   "source": [
    "3. Write circle_calc() function that takes radius of a circle as an input from user and then it calculates and returns area, circumference and diameter. You should get these values in your main program by calling circle_calc function and then print them"
   ]
  },
  {
   "cell_type": "code",
   "execution_count": 55,
   "metadata": {},
   "outputs": [
    {
     "name": "stdout",
     "output_type": "stream",
     "text": [
      "Radius: 3\n",
      "area 28.29, circumference 18.86, diameter 6\n"
     ]
    }
   ],
   "source": [
    "def circle_calc(radius):\n",
    "    area = round((22/7) * r * r,2)\n",
    "    circumference = round(2 * (22/7) * r,2)\n",
    "    diameter = 2 * r\n",
    "    return area, circumference, diameter\n",
    "\n",
    "\n",
    "\n",
    "if __name__==\"__main__\":\n",
    "   r = int(input(\"Enter the Radius\"))\n",
    "   print(f\"Radius: {r}\")\n",
    "   a,c,d = circle_calc(r)\n",
    "   print(f\"area {a}, circumference {c}, diameter {d}\")\n",
    "\n"
   ]
  }
 ],
 "metadata": {
  "kernelspec": {
   "display_name": "Python 3",
   "language": "python",
   "name": "python3"
  },
  "language_info": {
   "codemirror_mode": {
    "name": "ipython",
    "version": 3
   },
   "file_extension": ".py",
   "mimetype": "text/x-python",
   "name": "python",
   "nbconvert_exporter": "python",
   "pygments_lexer": "ipython3",
   "version": "3.10.0"
  }
 },
 "nbformat": 4,
 "nbformat_minor": 2
}
