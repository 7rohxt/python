{
 "cells": [
  {
   "cell_type": "markdown",
   "metadata": {},
   "source": [
    "## Exercise: Multiple Inheritance\n",
    "\n",
    "Real Life Example :\n",
    "1. Create multiple inheritance on teacher,student and youtuber.\n",
    "\n",
    "\n",
    "```\n",
    "Q. If a student pursuing a master's degree also becomes a teacher, what should we do??\n",
    "\n",
    "Ans :  just make subclass from  teacher so that student will become teacher\n",
    "```\n",
    "2. Now student is teacher as well as youtuber then what???\n",
    "\n",
    "\n",
    "```\n",
    "-just use multiple inheritance for these three relations\n",
    "\n",
    "```\n"
   ]
  },
  {
   "cell_type": "code",
   "execution_count": 11,
   "metadata": {},
   "outputs": [
    {
     "name": "stdout",
     "output_type": "stream",
     "text": [
      "Rohit is a teacher\n",
      "\n",
      "Karthick creates content on 'Code with Karthick' channel\n"
     ]
    }
   ],
   "source": [
    "class teacher:\n",
    "    def __init__(self, name):\n",
    "        self.name = name\n",
    "\n",
    "    def teaches(self):\n",
    "        print(f\"{self.name} is a teacher\\n\")\n",
    "\n",
    "class student(teacher): \n",
    "    def __init__(self, name, degree):\n",
    "        super().__init__(name)\n",
    "        self.degree = degree\n",
    "    \n",
    "    def teaches(self):\n",
    "        if self.degree.lower() == \"master's\":\n",
    "            super().teaches()\n",
    "        \n",
    "class youtuber(student):\n",
    "    def __init__(self, name, degree, channel):\n",
    "        super().__init__(name,degree)\n",
    "        self.channel = channel\n",
    "    \n",
    "    def creates_content(self):\n",
    "        print(f\"{self.name} creates content on {self.channel} channel\")\n",
    "\n",
    "obj1 = student(\"Rohit\",\"Master's\")\n",
    "obj1.teaches()\n",
    "\n",
    "obj2 = youtuber(\"Karthick\", \"master's\", \"'Code with Karthick'\")\n",
    "obj2.creates_content()\n",
    "\n"
   ]
  },
  {
   "cell_type": "code",
   "execution_count": null,
   "metadata": {},
   "outputs": [],
   "source": []
  }
 ],
 "metadata": {
  "kernelspec": {
   "display_name": "Python 3",
   "language": "python",
   "name": "python3"
  },
  "language_info": {
   "codemirror_mode": {
    "name": "ipython",
    "version": 3
   },
   "file_extension": ".py",
   "mimetype": "text/x-python",
   "name": "python",
   "nbconvert_exporter": "python",
   "pygments_lexer": "ipython3",
   "version": "3.8.0"
  }
 },
 "nbformat": 4,
 "nbformat_minor": 2
}
