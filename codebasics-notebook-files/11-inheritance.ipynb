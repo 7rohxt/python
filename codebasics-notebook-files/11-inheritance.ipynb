{
 "cells": [
  {
   "cell_type": "markdown",
   "metadata": {},
   "source": [
    "## Exercise: Inheritance\n",
    "\n",
    "1. create inheritance using animal Dog relation.\n",
    "\n",
    "\n",
    "```\n",
    "for example, \n",
    "    Animal and Dog both has same habitat so create a method for habitat \n",
    "```\n",
    "2. use super() constructor for calling parent constructor.\n",
    "\n",
    "```\n",
    "class Animal:\n",
    "    #code\n",
    "\n",
    "class Dog(Animal):\n",
    "    super()-it refers Animal class,now you can call Animal's methods.\n",
    "```\n"
   ]
  },
  {
   "cell_type": "code",
   "execution_count": 9,
   "metadata": {},
   "outputs": [
    {
     "name": "stdout",
     "output_type": "stream",
     "text": [
      "Class Animal is Created\n",
      "\n",
      "Class Dog is created\n",
      "\n",
      "Lives on land\n",
      "\n",
      "Barks\n"
     ]
    }
   ],
   "source": [
    "class Animal:\n",
    "    def __init__ (self):\n",
    "        print(f\"Class Animal is Created\\n\")\n",
    "    def habitat(self):\n",
    "       return \"Lives on land\\n\"\n",
    "\n",
    "class Dog(Animal):\n",
    "    def __init__(self):\n",
    "        super().__init__()\n",
    "        print(f\"Class Dog is created\\n\")\n",
    "    def sound (self):\n",
    "        return \"Barks\"\n",
    "\n",
    "dog = Dog()\n",
    "print(dog.habitat())\n",
    "print(dog.sound())\n",
    "# print(dog.habitat())\n",
    "\n"
   ]
  }
 ],
 "metadata": {
  "kernelspec": {
   "display_name": "Python 3",
   "language": "python",
   "name": "python3"
  },
  "language_info": {
   "codemirror_mode": {
    "name": "ipython",
    "version": 3
   },
   "file_extension": ".py",
   "mimetype": "text/x-python",
   "name": "python",
   "nbconvert_exporter": "python",
   "pygments_lexer": "ipython3",
   "version": "3.10.0"
  }
 },
 "nbformat": 4,
 "nbformat_minor": 2
}
