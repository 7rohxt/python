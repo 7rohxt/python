{
 "cells": [
  {
   "cell_type": "markdown",
   "metadata": {},
   "source": [
    "## Exercise: Multithreading\n",
    "\n",
    "1. Create any multithreaded code using for loop for creating multithreads\n",
    "\n",
    "```\n",
    "for i in range(10):\n",
    "    th = Thread(target=func_name, args=(i, ))\n",
    "    \n",
    "```\n"
   ]
  },
  {
   "cell_type": "markdown",
   "metadata": {},
   "source": [
    "2. Print total active threads in multithreaded code using threading.active_count()\n"
   ]
  },
  {
   "cell_type": "code",
   "execution_count": 8,
   "metadata": {},
   "outputs": [
    {
     "name": "stdout",
     "output_type": "stream",
     "text": [
      "Square: 4\n",
      "Square: 16\n",
      "Square: 49\n",
      "Square: 81\n",
      "Square: 4\n",
      "Square: 16\n",
      "Square: 49\n",
      "Square: 81\n",
      "Square: 4\n",
      "Square: 16\n",
      "Square: 49\n",
      "Square: 81\n",
      "Square: 4\n",
      "Square: 16\n",
      "Square: 49\n",
      "Square: 81\n",
      "Square: 4\n",
      "Square: 16\n",
      "Square: 49\n",
      "Square: 81\n",
      "Square: 4\n",
      "Square: 16\n",
      "Square: 49\n",
      "Square: 81\n",
      "Square: 4\n",
      "Square: 16\n",
      "Square: 49\n",
      "Square: 81\n",
      "Square: 4\n",
      "Square: 16\n",
      "Square: 49\n",
      "Square: 81\n",
      "Square: 4\n",
      "Square: 16\n",
      "Square: 49\n",
      "Square: 81\n",
      "Square: 4\n",
      "Square: 16\n",
      "Square: 49\n",
      "Square: 81\n",
      "Active Threads: 6\n"
     ]
    }
   ],
   "source": [
    "import threading\n",
    "\n",
    "def calculate_square(numbers):\n",
    "    for n in numbers:\n",
    "        print(f\"Square: {n*n}\")\n",
    "\n",
    "arr = [2,4,7,9]\n",
    "\n",
    "threads = []\n",
    "for i in range(10):\n",
    "    th = threading.Thread(target=calculate_square, args = (arr,))\n",
    "    threads.append(th)\n",
    "    th.start()\n",
    "\n",
    "print(f\"Active Threads: {threading.active_count()}\")\n",
    "\n",
    "for th in threads:\n",
    "    th.join()"
   ]
  }
 ],
 "metadata": {
  "kernelspec": {
   "display_name": "Python 3",
   "language": "python",
   "name": "python3"
  },
  "language_info": {
   "codemirror_mode": {
    "name": "ipython",
    "version": 3
   },
   "file_extension": ".py",
   "mimetype": "text/x-python",
   "name": "python",
   "nbconvert_exporter": "python",
   "pygments_lexer": "ipython3",
   "version": "3.8.0"
  }
 },
 "nbformat": 4,
 "nbformat_minor": 2
}
