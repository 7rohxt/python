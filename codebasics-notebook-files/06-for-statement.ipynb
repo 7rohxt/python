{
 "cells": [
  {
   "cell_type": "markdown",
   "metadata": {},
   "source": [
    "## Exercise: Python for loop\n",
    "1. After flipping a coin 10 times you got this result,\n",
    "```\n",
    "result = [\"heads\",\"tails\",\"tails\",\"heads\",\"tails\",\"heads\",\"heads\",\"tails\",\"tails\",\"tails\"]\n",
    "```\n",
    "Using for loop figure out how many times you got heads"
   ]
  },
  {
   "cell_type": "code",
   "execution_count": 6,
   "metadata": {},
   "outputs": [
    {
     "name": "stdout",
     "output_type": "stream",
     "text": [
      "Heads: 4 times\n"
     ]
    }
   ],
   "source": [
    "result = [\"heads\",\"tails\",\"tails\",\"heads\",\"tails\",\"heads\",\"heads\",\"tails\",\"tails\",\"tails\"]\n",
    "\n",
    "sum = 0\n",
    "for i in result:\n",
    "    if i == 'heads':\n",
    "       sum += 1\n",
    "print(f\"Heads: {sum} times\")"
   ]
  },
  {
   "cell_type": "markdown",
   "metadata": {},
   "source": [
    "2. Print square of all numbers between 1 to 10 except even numbers"
   ]
  },
  {
   "cell_type": "code",
   "execution_count": 7,
   "metadata": {},
   "outputs": [
    {
     "name": "stdout",
     "output_type": "stream",
     "text": [
      "The square of 1 is 1\n",
      "The square of 3 is 9\n",
      "The square of 5 is 25\n",
      "The square of 7 is 49\n",
      "The square of 9 is 81\n"
     ]
    }
   ],
   "source": [
    "for i in range(1, 11):\n",
    "    if i % 2 != 0:\n",
    "        print(f\"The square of {i} is {i*i}\")"
   ]
  },
  {
   "cell_type": "markdown",
   "metadata": {},
   "source": [
    "3. Your monthly expense list (from Jan to May) looks like this,\n",
    "```\n",
    "expense_list = [2340, 2500, 2100, 3100, 2980]\n",
    "```\n",
    "Write a program that asks you to enter an expense amount and program\n",
    "should tell you in which month that expense occurred. If expense is not\n",
    "found then it should print that as well.\n"
   ]
  },
  {
   "cell_type": "code",
   "execution_count": 26,
   "metadata": {},
   "outputs": [
    {
     "name": "stdout",
     "output_type": "stream",
     "text": [
      "Monthy Expense: 2100\n",
      "Matching Month(s): Mar\n"
     ]
    }
   ],
   "source": [
    "expense_list = [2340, 2500, 2100, 3100, 2980]\n",
    "months = ['Jan', 'Feb', 'Mar', 'Apr', 'May']\n",
    "\n",
    "expense = int(input(\"Enter the monthy expense: \"))\n",
    "print(f\"Monthy Expense: {expense}\")\n",
    "\n",
    "if expense in expense_list:\n",
    "    for i in range(len(expense_list)):\n",
    "      if expense_list[i] == expense:   \n",
    "        print(f\"Matching Month(s): {months[i]}\")\n",
    "        \n",
    "else:\n",
    "    print(\"Expense Not Found\")"
   ]
  },
  {
   "cell_type": "markdown",
   "metadata": {},
   "source": [
    "4. Lets say you are running a 5 km race. Write a program that,\n",
    "   1. Upon completing each 1 km asks you \"are you tired?\"\n",
    "   2. If you reply \"yes\" then it should break and print \"you didn't finish the race\"\n",
    "   3. If you reply \"no\" then it should continue and ask \"are you tired\" on every km\n",
    "   4. If you finish all 5 km then it should print congratulations message"
   ]
  },
  {
   "cell_type": "code",
   "execution_count": 30,
   "metadata": {},
   "outputs": [
    {
     "name": "stdout",
     "output_type": "stream",
     "text": [
      "Upon completion of 1 kms. Are you tired?: no\n",
      "Upon completion of 2 kms. Are you tired?: no\n",
      "Upon completion of 3 kms. Are you tired?: yes\n",
      "You did not finish the race\n"
     ]
    }
   ],
   "source": [
    "for i in range(1,6):\n",
    "    response = input(f\" Are you tired?: \")\n",
    "    print(f\"Upon completion of {i} kms. Are you tired?: {response}\")\n",
    "    if response == \"yes\":\n",
    "        print(\"You did not finish the race\")\n",
    "        break\n",
    "    elif response == \"no\":\n",
    "        continue\n",
    "    print(\"Congradulations!\")"
   ]
  },
  {
   "cell_type": "markdown",
   "metadata": {},
   "source": [
    "5. Write a program that prints following shape\n",
    "```\n",
    "*\n",
    "**\n",
    "***\n",
    "****\n",
    "*****\n",
    "```"
   ]
  },
  {
   "cell_type": "code",
   "execution_count": 47,
   "metadata": {},
   "outputs": [
    {
     "name": "stdout",
     "output_type": "stream",
     "text": [
      "*\n",
      "**\n",
      "***\n",
      "****\n",
      "*****\n"
     ]
    }
   ],
   "source": [
    "for i in range(1,6):\n",
    "      print(i * \"*\")"
   ]
  }
 ],
 "metadata": {
  "kernelspec": {
   "display_name": "Python 3",
   "language": "python",
   "name": "python3"
  },
  "language_info": {
   "codemirror_mode": {
    "name": "ipython",
    "version": 3
   },
   "file_extension": ".py",
   "mimetype": "text/x-python",
   "name": "python",
   "nbconvert_exporter": "python",
   "pygments_lexer": "ipython3",
   "version": "3.10.0"
  }
 },
 "nbformat": 4,
 "nbformat_minor": 2
}
