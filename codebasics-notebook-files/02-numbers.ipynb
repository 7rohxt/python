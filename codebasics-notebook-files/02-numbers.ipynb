{
 "cells": [
  {
   "cell_type": "markdown",
   "metadata": {},
   "source": [
    "## Exercise: Numbers in python"
   ]
  },
  {
   "cell_type": "markdown",
   "metadata": {},
   "source": [
    "**Q1.You have a football field that is 92 meters long and 48.8 meters wide. Find the total area using Python and print it.** "
   ]
  },
  {
   "cell_type": "code",
   "execution_count": 16,
   "metadata": {},
   "outputs": [
    {
     "name": "stdout",
     "output_type": "stream",
     "text": [
      "The total area of the football field is 4489.6 square meters.\n"
     ]
    }
   ],
   "source": [
    "field_length = 92 \n",
    "field_width = 48.8 \n",
    "total_area = field_length * field_width\n",
    "\n",
    "\n",
    "print(f\"The total area of the football field is {round(total_area,1)} square meters.\")"
   ]
  },
  {
   "cell_type": "markdown",
   "metadata": {},
   "source": [
    "**Q2. You bought 9 packets of potato chips from a store. Each packet costs 1.49 dollars, and you gave the shopkeeper 20 dollars. Using Python, calculate how much money the shopkeeper will give you back**"
   ]
  },
  {
   "cell_type": "code",
   "execution_count": 17,
   "metadata": {},
   "outputs": [
    {
     "name": "stdout",
     "output_type": "stream",
     "text": [
      "The shopkeeper will give me back 6.6 dollars.\n"
     ]
    }
   ],
   "source": [
    "packets = 9\n",
    "total_cost = round(9 * 1.49, 1)\n",
    "print(f\"The shopkeeper will give me back {20 - total_cost} dollars.\")"
   ]
  },
  {
   "cell_type": "markdown",
   "metadata": {},
   "source": [
    "**Q3. You want to replace tiles in your bathroom, which is exactly square with a length of 5.5 feet. If tiles cost 500 Rs per square foot, calculate and print the total cost to replace all tiles using Python.**  \n",
    "   *Hint: Use the power operator `**` to find the area of a square.*  "
   ]
  },
  {
   "cell_type": "code",
   "execution_count": 24,
   "metadata": {},
   "outputs": [
    {
     "name": "stdout",
     "output_type": "stream",
     "text": [
      "The total cost to replace all tiles : 15125.0\n"
     ]
    }
   ],
   "source": [
    "tile_length = 5.5\n",
    "tile_area = round (pow (tile_length,2), 2)\n",
    "cost_sqf= 500\n",
    "print(f\"The total cost to replace all tiles : {cost_sqf*tile_area}\")"
   ]
  },
  {
   "cell_type": "markdown",
   "metadata": {},
   "source": [
    "**Q4. Print the binary representation of the number 17 using Python.**  "
   ]
  },
  {
   "cell_type": "code",
   "execution_count": 28,
   "metadata": {},
   "outputs": [
    {
     "name": "stdout",
     "output_type": "stream",
     "text": [
      "Binary value of 17 is 10001\n"
     ]
    }
   ],
   "source": [
    "num = 17 \n",
    "print(f\"Binary value of 17 is {format(num,'b')}\")"
   ]
  }
 ],
 "metadata": {
  "kernelspec": {
   "display_name": "Python 3",
   "language": "python",
   "name": "python3"
  },
  "language_info": {
   "codemirror_mode": {
    "name": "ipython",
    "version": 3
   },
   "file_extension": ".py",
   "mimetype": "text/x-python",
   "name": "python",
   "nbconvert_exporter": "python",
   "pygments_lexer": "ipython3",
   "version": "3.10.0"
  }
 },
 "nbformat": 4,
 "nbformat_minor": 2
}
